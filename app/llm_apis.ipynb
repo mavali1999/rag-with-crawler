{
 "cells": [
  {
   "cell_type": "markdown",
   "id": "d3dd9ac3",
   "metadata": {},
   "source": [
    "## API Keys"
   ]
  },
  {
   "cell_type": "code",
   "execution_count": 1,
   "id": "b221da28",
   "metadata": {},
   "outputs": [],
   "source": [
    "from config import METISAI_API_KEY, METISAI_OPENAI_URL"
   ]
  },
  {
   "cell_type": "markdown",
   "id": "3de22778",
   "metadata": {},
   "source": [
    "## Questions"
   ]
  },
  {
   "cell_type": "code",
   "execution_count": 6,
   "id": "5188aebd",
   "metadata": {},
   "outputs": [],
   "source": [
    "questions = [\n",
    "    \"تا چه تاریخی به اطلاعات مسابقات فوتبال دسترسی داری؟\",\n",
    "    \"آخرین بازی پرسپولیس مقابل کدوم تیم بود؟\",\n",
    "    \"تیم اول جدول لیگ برتر کیست؟\",\n",
    "    \"کدام تیم های لیگ برتر فوتبال در جایگاه سقوط قرار دارند؟\",\n",
    "    \"سرمربی تیم مس رفسنجان کیست؟\",\n",
    "]"
   ]
  },
  {
   "cell_type": "markdown",
   "id": "0daa5bd3",
   "metadata": {},
   "source": [
    "## OpenAI"
   ]
  },
  {
   "cell_type": "code",
   "execution_count": 2,
   "id": "6d134aaf",
   "metadata": {},
   "outputs": [],
   "source": [
    "from openai import OpenAI\n",
    "\n",
    "client = OpenAI(\n",
    "    api_key=METISAI_API_KEY,\n",
    "    base_url=METISAI_OPENAI_URL\n",
    ")"
   ]
  },
  {
   "cell_type": "code",
   "execution_count": null,
   "id": "7dddca09",
   "metadata": {},
   "outputs": [
    {
     "name": "stdout",
     "output_type": "stream",
     "text": [
      "Waves kiss the soft shore,  \n",
      "Whispers of the deep blue call,  \n",
      "Endless tides restore.\n"
     ]
    }
   ],
   "source": [
    "response = client.chat.completions.create(\n",
    "    model=\"gpt-4o-mini\",\n",
    "    messages=[\n",
    "        # {\"role\": \"system\", \"content\": \"You are a helpful assistant.\"},\n",
    "        {\"role\": \"user\", \"content\": \"Write a haiku about the ocean.\"}\n",
    "    ]\n",
    ")\n",
    "\n",
    "print(response.choices[0].message.content)"
   ]
  },
  {
   "cell_type": "code",
   "execution_count": 12,
   "id": "b91abb1a",
   "metadata": {},
   "outputs": [
    {
     "name": "stdout",
     "output_type": "stream",
     "text": [
      "کوتاه بگم: در این نسخه دسترسی مستقیم به اینترنت و جست‌وجوی زنده ندارم. دانش من تا حدود اکتبر 2024 به‌روز است.\n",
      "\n",
      "اما می‌توانم:\n",
      "- برایتان پرس‌وجوهای دقیق (کوئری) بسازم تا خودتان بهتر جست‌وجو کنید.\n",
      "- اگر لینک یا متن صفحه را اینجا بیاورید، خلاصه/تحلیل/راستی‌آزمایی کنم.\n",
      "- منابع معتبر و راهبردهای یافتن اطلاعات به‌روز را پیشنهاد بدهم.\n",
      "\n",
      "دنبال چه موضوعی هستید؟\n"
     ]
    }
   ],
   "source": [
    "text = input()\n",
    "# text = questions[1]\n",
    "\n",
    "response = client.chat.completions.create(\n",
    "    # model=\"gpt-4o-mini\",\n",
    "    model=\"gpt-5\",\n",
    "\n",
    "    messages=[\n",
    "        # {\"role\": \"system\", \"content\": \"You are a helpful assistant.\"},\n",
    "        {\"role\": \"user\", \"content\": text}\n",
    "    ]\n",
    ")\n",
    "\n",
    "print(response.choices[0].message.content)"
   ]
  },
  {
   "cell_type": "code",
   "execution_count": null,
   "id": "1360f162",
   "metadata": {},
   "outputs": [],
   "source": [
    "openai_models = [\n",
    "    \n",
    "    \n",
    "\n",
    "    'gpt-5',\n",
    "]"
   ]
  }
 ],
 "metadata": {
  "kernelspec": {
   "display_name": "parrot-py3.12 (3.12.3)",
   "language": "python",
   "name": "python3"
  },
  "language_info": {
   "codemirror_mode": {
    "name": "ipython",
    "version": 3
   },
   "file_extension": ".py",
   "mimetype": "text/x-python",
   "name": "python",
   "nbconvert_exporter": "python",
   "pygments_lexer": "ipython3",
   "version": "3.12.3"
  }
 },
 "nbformat": 4,
 "nbformat_minor": 5
}
